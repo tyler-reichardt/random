{
 "cells": [
  {
   "cell_type": "code",
   "execution_count": 0,
   "metadata": {
    "application/vnd.databricks.v1+cell": {
     "cellMetadata": {
      "byteLimit": 2048000,
      "rowLimit": 10000
     },
     "inputWidgets": {},
     "nuid": "5e6fd4ec-8ce8-4577-aa47-e8a3c6c38e56",
     "showTitle": false,
     "tableResultSettingsMap": {},
     "title": ""
    }
   },
   "outputs": [],
   "source": [
    "import datetime\n",
    "\n",
    "#startDateObject = datetime.datetime.now()\n",
    "#num_days = 1\n",
    "\n",
    "startDateObject = datetime.datetime.strptime('2025-06-01', '%Y-%m-%d')\n",
    "num_days = 92\n",
    "\n",
    "this_day = startDateObject.strftime(\"%Y-%m-%d\")\n",
    "\n",
    "for num in range(num_days):\n",
    "    startDateObject = startDateObject - datetime.timedelta(1)\n",
    "    this_day = startDateObject.strftime(\"%Y-%m-%d\")\n",
    "    dbutils.notebook.run(\"01_daily_policies\", 0, {\"date_range\": this_day})\n",
    "    dbutils.notebook.run(\"02_daily_claims\", 0, {\"date_range\": this_day})\n",
    "    dbutils.notebook.run(\"03_daily_scoring\", 0, {\"date_range\": this_day})\n",
    "    print('Ran SVI scripts for: ', this_day)\n",
    "\n"
   ]
  },
  {
   "cell_type": "code",
   "execution_count": 0,
   "metadata": {
    "application/vnd.databricks.v1+cell": {
     "cellMetadata": {
      "byteLimit": 2048000,
      "rowLimit": 10000
     },
     "inputWidgets": {},
     "nuid": "c215f64b-7166-4d77-a0f3-b860194a978a",
     "showTitle": false,
     "tableResultSettingsMap": {},
     "title": ""
    }
   },
   "outputs": [],
   "source": []
  }
 ],
 "metadata": {
  "application/vnd.databricks.v1+notebook": {
   "computePreferences": null,
   "dashboards": [],
   "environmentMetadata": {
    "base_environment": "",
    "environment_version": "2"
   },
   "inputWidgetPreferences": null,
   "language": "python",
   "notebookMetadata": {
    "pythonIndentUnit": 4
   },
   "notebookName": "04_run_all_daily_svi",
   "widgets": {}
  },
  "language_info": {
   "name": "python"
  }
 },
 "nbformat": 4,
 "nbformat_minor": 0
}
